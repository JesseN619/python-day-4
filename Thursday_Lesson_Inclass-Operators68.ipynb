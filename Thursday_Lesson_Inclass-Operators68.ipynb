{
 "cells": [
  {
   "cell_type": "markdown",
   "metadata": {},
   "source": [
    "# Object-Oriented-Programming (OOP)"
   ]
  },
  {
   "cell_type": "markdown",
   "metadata": {},
   "source": [
    "## Tasks Today:\n",
    "\n",
    "   \n",
    "\n",
    "1) <b>Creating a Class (Initializing/Declaring)</b> <br>\n",
    "2) <b>Using a Class (Instantiating)</b> <br>\n",
    " &nbsp;&nbsp;&nbsp;&nbsp; a) Creating One Instance <br>\n",
    " &nbsp;&nbsp;&nbsp;&nbsp; b) Creating Multiple Instances <br>\n",
    " &nbsp;&nbsp;&nbsp;&nbsp; c) In-Class Exercise #1 - Create a Class 'Car' and instantiate three different makes of cars <br>\n",
    "3) <b>The \\__init\\__() Method</b> <br>\n",
    " &nbsp;&nbsp;&nbsp;&nbsp; a) The 'self' Attribute <br>\n",
    "4) <b>Class Attributes</b> <br>\n",
    " &nbsp;&nbsp;&nbsp;&nbsp; a) Initializing Attributes <br>\n",
    " &nbsp;&nbsp;&nbsp;&nbsp; b) Setting an Attribute Outside of the \\__init\\__() Method <br>\n",
    " &nbsp;&nbsp;&nbsp;&nbsp; c) Setting Defaults for Attributes <br>\n",
    " &nbsp;&nbsp;&nbsp;&nbsp; d) Accessing Class Attributes <br>\n",
    " &nbsp;&nbsp;&nbsp;&nbsp; e) Changing Class Attributes <br>\n",
    " &nbsp;&nbsp;&nbsp;&nbsp; f) In-Class Exercise #2 - Add a color and wheels attribute to your 'Car' class <br>\n",
    "5) <b>Class Methods</b> <br>\n",
    " &nbsp;&nbsp;&nbsp;&nbsp; a) Creating <br>\n",
    " &nbsp;&nbsp;&nbsp;&nbsp; b) Calling <br>\n",
    " &nbsp;&nbsp;&nbsp;&nbsp; c) Modifying an Attribute's Value Through a Method <br>\n",
    " &nbsp;&nbsp;&nbsp;&nbsp; d) Incrementing an Attribute's Value Through a Method <br>\n",
    " &nbsp;&nbsp;&nbsp;&nbsp; e) In-Class Exercise #3 - Add a method that prints the cars color and wheel number, then call them <br>\n",
    "6) <b>Inheritance</b> <br>\n",
    " &nbsp;&nbsp;&nbsp;&nbsp; a) Syntax for Inheriting from a Parent Class <br>\n",
    " &nbsp;&nbsp;&nbsp;&nbsp; b) The \\__init\\__() Method for a Child Class (super()) <br>\n",
    " &nbsp;&nbsp;&nbsp;&nbsp; c) Defining Attributes and Methods for the Child Class <br>\n",
    " &nbsp;&nbsp;&nbsp;&nbsp; d) Method Overriding <br>\n",
    " &nbsp;&nbsp;&nbsp;&nbsp; e) In-Class Exercise #4 - Create a class 'Ford' that inherits from 'Car' class and initialize it as a Blue Ford Explorer with 4 wheels using the super() method <br>\n",
    "7) <b>Classes as Attributes</b> <br>\n",
    "8) <b>Exercises</b> <br>\n",
    " &nbsp;&nbsp;&nbsp;&nbsp; a) Exercise #1 - Turn the shopping cart program from yesterday into an object-oriented program <br>"
   ]
  },
  {
   "cell_type": "markdown",
   "metadata": {},
   "source": [
    "# In Class Shopping Cart example"
   ]
  },
  {
   "cell_type": "code",
   "execution_count": null,
   "metadata": {},
   "outputs": [],
   "source": [
    "from IPython.display import clear_output\n",
    "\n",
    "cart = []\n",
    "\n",
    "# Adding Item to cart\n",
    "def addItem(item):\n",
    "    clear_output()\n",
    "    cart.append(item)\n",
    "    \n",
    "# Remove from cart\n",
    "def removeItem(item):\n",
    "    clear_output()\n",
    "    cart.remove(item)\n",
    "    \n",
    "#Show cart\n",
    "def showCart():\n",
    "    print(\"Here is your cart...\")\n",
    "    for item in cart:\n",
    "        print(item)\n",
    "        \n",
    "def clearCart():\n",
    "    print(\"Your cart is now empty...\")\n",
    "    cart.clear()\n",
    "    \n",
    "def shoppingCart():\n",
    "    while True:\n",
    "        response = input(\"What would you like to do? Add / remove / show / clear you cart: \")\n",
    "        if response.lower() == 'quit':\n",
    "            print(\"Thanks for shopping with us!\")\n",
    "            showCart()\n",
    "            break\n",
    "        elif response.lower() == 'add':\n",
    "            item_resp = input(\"What would you like to add?\")\n",
    "            addItem(item_resp)\n",
    "        elif response.lower() == 'remove':\n",
    "            showCart()\n",
    "            remove_resp = input(\"What do you want to remove?\")\n",
    "            removeItem(remove_resp)\n",
    "        elif response.lower() == 'show':\n",
    "            showCart()\n",
    "        elif response.lower() == 'clear':\n",
    "            clearCart()\n",
    "        else:\n",
    "            print('Sorry, not a valid response...')\n",
    "            \n",
    "    \n",
    "shoppingCart()"
   ]
  },
  {
   "cell_type": "markdown",
   "metadata": {},
   "source": [
    "## Creating a Class (Initializing/Declaring)\n",
    "<p>When creating a class, function, or even a variable you are initializing that object. Initializing and Declaring occur at the same time in Python, whereas in lower level languages you have to declare an object before initializing it. This is the first step in the process of using a class.</p>"
   ]
  },
  {
   "cell_type": "code",
   "execution_count": null,
   "metadata": {},
   "outputs": [],
   "source": [
    "# class Car:   OR   class Car():\n",
    "class Car():\n",
    "    wheels = 4\n",
    "    color = 'blue'"
   ]
  },
  {
   "cell_type": "markdown",
   "metadata": {},
   "source": [
    "## Using a Class (Instantiating)\n",
    "<p>The process of creating a class is called <i>Instantiating</i>. Each time you create a variable of that type of class, it is referred to as an <i>Instance</i> of that class. This is the second step in the process of using a class.</p>"
   ]
  },
  {
   "cell_type": "markdown",
   "metadata": {},
   "source": [
    "##### Creating One Instance"
   ]
  },
  {
   "cell_type": "code",
   "execution_count": null,
   "metadata": {},
   "outputs": [],
   "source": [
    "ford = Car()\n",
    "print(ford)\n",
    "\n",
    "print(ford.wheels)\n",
    "print(ford.color)"
   ]
  },
  {
   "cell_type": "markdown",
   "metadata": {},
   "source": [
    "##### Creating Multiple Instances"
   ]
  },
  {
   "cell_type": "code",
   "execution_count": null,
   "metadata": {},
   "outputs": [],
   "source": [
    "chevy = Car()\n",
    "honda = Car()\n",
    "lambo = Car()\n",
    "\n",
    "print(lambo.color)\n"
   ]
  },
  {
   "cell_type": "markdown",
   "metadata": {},
   "source": [
    "##### In-Class Exercise #1 - Create a Class 'Car' and Instantiate three different makes of cars"
   ]
  },
  {
   "cell_type": "code",
   "execution_count": null,
   "metadata": {},
   "outputs": [],
   "source": [
    "class Car():\n",
    "#     door, color, wheels, sunroof\n",
    "    doors = 4\n",
    "    wheels = 4\n",
    "    color = 'black'\n",
    "    sunroof = True\n",
    "\n",
    "hyundai = Car()\n",
    "tesla = Car()\n",
    "jeep = Car()\n",
    "\n",
    "print(hyundai.sunroof)"
   ]
  },
  {
   "cell_type": "markdown",
   "metadata": {},
   "source": [
    "## The \\__init\\__() Method <br>\n",
    "<p>This method is used in almost every created class, and called only once upon the creation of the class instance. This method will initialize all variables needed for the object.</p>"
   ]
  },
  {
   "cell_type": "code",
   "execution_count": null,
   "metadata": {},
   "outputs": [],
   "source": [
    "# 'dunder' double underscore init double underscore (__init__())\n",
    "\n",
    "class Toy:\n",
    "    kind = \"Car\"\n",
    "    \n",
    "    def __init__(self, rooftop, horn, wheels):\n",
    "        self.rooftop = rooftop\n",
    "        self.horn = horn\n",
    "        self.wheels = wheels\n",
    "        \n",
    "hotwheels = Toy(1, 1, 4)\n",
    "tonka = Toy(3, 3, 18)\n",
    "tonka.wheels\n",
    "\n",
    "tonka.__dict__"
   ]
  },
  {
   "cell_type": "markdown",
   "metadata": {},
   "source": [
    "##### The 'self' Attribute <br>\n",
    "<p>This attribute is required to keep track of specific instance's attributes. Without the self attribute, the program would not know how to reference or keep track of an instance's attributes.</p>"
   ]
  },
  {
   "cell_type": "code",
   "execution_count": null,
   "metadata": {},
   "outputs": [],
   "source": [
    "# see above"
   ]
  },
  {
   "cell_type": "markdown",
   "metadata": {},
   "source": [
    "## Class Attributes <br>\n",
    "<p>While variables are inside of a class, they are referred to as attributes and not variables. When someone says 'attribute' you know they're speaking about a class. Attributes can be initialized through the init method, or outside of it.</p>"
   ]
  },
  {
   "cell_type": "markdown",
   "metadata": {},
   "source": [
    "##### Initializing Attributes"
   ]
  },
  {
   "cell_type": "code",
   "execution_count": null,
   "metadata": {},
   "outputs": [],
   "source": [
    "# See Above"
   ]
  },
  {
   "cell_type": "markdown",
   "metadata": {},
   "source": [
    "##### Accessing Class Attributes"
   ]
  },
  {
   "cell_type": "code",
   "execution_count": null,
   "metadata": {
    "scrolled": true
   },
   "outputs": [],
   "source": [
    "tonka = Toy(1,1,4)\n",
    "\n",
    "tonka.rooftop\n",
    "tonka.wheels\n",
    "tonka.horn"
   ]
  },
  {
   "cell_type": "markdown",
   "metadata": {},
   "source": [
    "##### Setting Defaults for Attributes"
   ]
  },
  {
   "cell_type": "code",
   "execution_count": null,
   "metadata": {},
   "outputs": [],
   "source": [
    "class Human:\n",
    "    def __init__(self, eyes, height, activity, hair=\"Brown\"):\n",
    "        self.eyes = eyes\n",
    "        self.height = height\n",
    "        self.activity = activity\n",
    "        self.hair = hair\n",
    "        \n",
    "nate = Human('blue', \"6ft1in\", True)\n",
    "\n",
    "julia = Human('brown', \"5ft10in\", True, 'Black')\n",
    "\n",
    "julia.hair"
   ]
  },
  {
   "cell_type": "markdown",
   "metadata": {},
   "source": [
    "##### Changing Class Attributes <br>\n",
    "<p>Keep in mind there are global class attributes and then there are attributes only available to each class instance which won't effect other classes.</p>"
   ]
  },
  {
   "cell_type": "code",
   "execution_count": null,
   "metadata": {},
   "outputs": [],
   "source": [
    "# changing the attribute\n",
    "\n",
    "print(f'BEFORE attribute change: {julia.hair}')\n",
    "\n",
    "julia.hair = \"Blonde\"\n",
    "\n",
    "print(f\"AFTER attribute change: {julia.hair}\")"
   ]
  },
  {
   "cell_type": "code",
   "execution_count": null,
   "metadata": {},
   "outputs": [],
   "source": []
  },
  {
   "cell_type": "markdown",
   "metadata": {},
   "source": [
    "##### In-Class Exercise #2 - Add a doors and seats attribute to your 'Car' class then print out two different instances with different doors and seats"
   ]
  },
  {
   "cell_type": "code",
   "execution_count": null,
   "metadata": {},
   "outputs": [],
   "source": [
    "class Car():\n",
    "    def __init__(self, doors=\"4\", seats=\"5\"):\n",
    "        self.doors = doors\n",
    "        self.seats = seats\n",
    "    \n",
    "    def printAttributes(self):\n",
    "        print(f'This car has {self.doors} doors and {self.seats} seats!')\n",
    "    \n",
    "jeep = Car()\n",
    "bmw = Car(2)\n",
    "\n",
    "bmw.printAttributes()\n",
    "jeep.printAttributes()"
   ]
  },
  {
   "cell_type": "markdown",
   "metadata": {},
   "source": [
    "## Class Methods <br>\n",
    "<p>While inside of a class, functions are referred to as 'methods'. If you hear someone mention methods, they're speaking about classes. Methods are essentially functions, but only callable on the instances of a class.</p>"
   ]
  },
  {
   "cell_type": "markdown",
   "metadata": {},
   "source": [
    "##### Creating"
   ]
  },
  {
   "cell_type": "code",
   "execution_count": null,
   "metadata": {},
   "outputs": [],
   "source": [
    "class ShoppingBag():\n",
    "    \"\"\"\n",
    "        The ShoppingBag class will have handles, capacity, and items to place inside.\n",
    "        \n",
    "        Attributes for class:\n",
    "        - handles: expected to be integer\n",
    "        - capacity: expected to be a string or integer\n",
    "        - items: expected to be a list\n",
    "    \"\"\"\n",
    "    def __init__(self, handles, capacity, items):\n",
    "        self.handles = handles\n",
    "        self.capacity = capacity\n",
    "        self.items = items\n",
    "        \n",
    "    # Method to show all items in items list\n",
    "    def showShoppingBag(self):\n",
    "        print(\"Here are the items in your bag...\")\n",
    "        for item in self.items:\n",
    "            print(item)\n",
    "            \n",
    "    # Method to show capacity\n",
    "    def showCapacity(self):\n",
    "        print(f\"Your current bag capacity is: {self.capacity}\")\n",
    "        \n",
    "    # Method to add items to bag\n",
    "    def addToShoppingBag(self):\n",
    "        product = input(\"What would you like to add? \")\n",
    "        self.items.append(product)\n",
    "        print(f\"Success! Here is your new bag: {self.items}\")\n",
    "        \n",
    "    # change capacity dynamically\n",
    "    def changeCapacity(self, capacity):\n",
    "        self.capacity = capacity\n",
    "    \n",
    "    #increase capacity of bag by 10\n",
    "    def increaseCapacity(self, changed_cap = 10):\n",
    "        if isinstance(self.capacity, str):\n",
    "            print(\"Cannot do that here...\")\n",
    "        else:\n",
    "            self.capacity += changed_cap\n",
    "            \n",
    "pacsun = ShoppingBag(2,10,[])\n",
    "pacsun.changeCapacity(25)\n",
    "pacsun.increaseCapacity(5)\n",
    "pacsun.showCapacity()"
   ]
  },
  {
   "cell_type": "markdown",
   "metadata": {},
   "source": [
    "##### Calling"
   ]
  },
  {
   "cell_type": "code",
   "execution_count": null,
   "metadata": {},
   "outputs": [],
   "source": [
    "# See Above\n",
    "\n",
    "def run():\n",
    "    # Create a new instance of ShoppingBag\n",
    "    whole_foods = ShoppingBag(2,10,[])\n",
    "    while True:\n",
    "        response = input(\"What do you want to do? add/show/quit\")\n",
    "        \n",
    "        if response.lower() == 'quit':\n",
    "            whole_foods.showShoppingBag()\n",
    "            print(\"Thanks for shopping at Whole Foods!\")\n",
    "            break\n",
    "        elif response.lower() == 'add':\n",
    "            whole_foods.addToShoppingBag()\n",
    "        elif response.lower() == 'show':\n",
    "            whole_foods.showShoppingBag()\n",
    "        else:\n",
    "            print(\"Not a valid input -- please retry\")\n",
    "            \n",
    "run()"
   ]
  },
  {
   "cell_type": "markdown",
   "metadata": {},
   "source": [
    "##### Modifying an Attribute's Value Through a Method"
   ]
  },
  {
   "cell_type": "code",
   "execution_count": null,
   "metadata": {},
   "outputs": [],
   "source": [
    "mcdonalds = ShoppingBag(2, 100, [])\n",
    "mcdonalds.showCapacity()\n",
    "mcdonalds.changeCapacity(50)\n",
    "mcdonalds.showCapacity()"
   ]
  },
  {
   "cell_type": "markdown",
   "metadata": {},
   "source": [
    "##### Incrementing an Attribute's Value Through a Method"
   ]
  },
  {
   "cell_type": "code",
   "execution_count": null,
   "metadata": {},
   "outputs": [],
   "source": [
    "mcdonalds.increaseCapacity()\n",
    "mcdonalds.showCapacity()"
   ]
  },
  {
   "cell_type": "markdown",
   "metadata": {},
   "source": [
    "##### In-Class Exercise #3 - Add a method that takes in three parameters of year, doors and seats and prints out a formatted print statement with make, model, year, seats, and doors"
   ]
  },
  {
   "cell_type": "code",
   "execution_count": null,
   "metadata": {},
   "outputs": [],
   "source": [
    "# Create class with 2 paramters inside of the __init__ which are make and model\n",
    "# Inside of the Car class create a method that has 4 parameter in total (self,year,door,seats)\n",
    "# Output: This car is from 2019 and is a Ford Expolorer and has 4 doors and 5 seats\n",
    "\n",
    "class Car():\n",
    "    def __init__(self, make=\"Ford\", model=\"Explorer\"):\n",
    "        self.make = make\n",
    "        self.model = model\n",
    "        \n",
    "    def showCar(self, year, doors, seats):\n",
    "        print(f\"This car is from {year} and is a {self.make} {self.model} and has {doors} doors and {seats} seats\")\n",
    "        \n",
    "ford_explorer = Car()\n",
    "ford_explorer.showCar(2019, 4, 7)"
   ]
  },
  {
   "cell_type": "markdown",
   "metadata": {},
   "source": [
    "## Inheritance <br>\n",
    "<p>You can create a child-parent relationship between two classes by using inheritance. What this allows you to do is have overriding methods, but also inherit traits from the parent class. Think of it as an actual parent and child, the child will inherit the parent's genes, as will the classes in OOP</p>"
   ]
  },
  {
   "cell_type": "markdown",
   "metadata": {},
   "source": [
    "##### Syntax for Inheriting from a Parent Class"
   ]
  },
  {
   "cell_type": "code",
   "execution_count": null,
   "metadata": {},
   "outputs": [],
   "source": [
    "# Creation of our Parent Class --- Animal\n",
    "\n",
    "class Animal:\n",
    "    def __init__(self, name, species, legs = 4):\n",
    "        self.name = name\n",
    "        self.species = species\n",
    "        self.legs = legs\n",
    "    # Generic Parent (Animal) Method - no override yet\n",
    "    def makeSound(self):\n",
    "        print(\"Make Some Generic Sound\")\n",
    "\n",
    "# Child class\n",
    "class Dog(Animal):\n",
    "    speed = 15\n",
    "    \n",
    "    def printInfo(self):\n",
    "        print(f'This Dog has a speed of {self.speed} and his name is {self.name}')\n",
    "        \n",
    "    # OVERRIDING the makeSound method\n",
    "    def makeSound(self):\n",
    "        noise = \"Bark\"\n",
    "        print(noise)\n",
    "    \n",
    "griffin = Dog('Griffin', 'Labrador Retriever')\n",
    "\n",
    "griffin.makeSound()\n",
    "\n",
    "# Grandchild class\n",
    "class Mutt(Dog):\n",
    "    def __init__(self, name, species, eye_color, legs=4):\n",
    "        Dog.__init__(self, name, species, legs)\n",
    "        self.eye_color = eye_color\n",
    "        \n",
    "hank = Mutt('Hank', 'Mutt', 'Blue')\n",
    "hank.eye_color"
   ]
  },
  {
   "cell_type": "markdown",
   "metadata": {},
   "source": [
    "##### The \\__init\\__() Method for a Child Class - super()"
   ]
  },
  {
   "cell_type": "code",
   "execution_count": null,
   "metadata": {
    "scrolled": true
   },
   "outputs": [],
   "source": [
    "# super class is the highest parent level (Animal)\n",
    "class Yorkie(Dog):\n",
    "    def __init__(self, name, species, eye_color, legs=4):\n",
    "        super().__init__(name, species, legs) # super does not take in self\n",
    "        self.eye_color = eye_color\n",
    "        \n",
    "Austin = Yorkie('austin', 'yorkie', 'brown', 3)\n",
    "\n",
    "Austin.legs"
   ]
  },
  {
   "cell_type": "markdown",
   "metadata": {},
   "source": [
    "##### Defining Attributes and Methods for the Child Class"
   ]
  },
  {
   "cell_type": "code",
   "execution_count": null,
   "metadata": {},
   "outputs": [],
   "source": [
    "# See Above"
   ]
  },
  {
   "cell_type": "markdown",
   "metadata": {},
   "source": [
    "##### Method Overriding"
   ]
  },
  {
   "cell_type": "code",
   "execution_count": null,
   "metadata": {},
   "outputs": [],
   "source": [
    "# See Above"
   ]
  },
  {
   "cell_type": "markdown",
   "metadata": {},
   "source": [
    "## Classes as Attributes <br>\n",
    "<p>Classes can also be used as attributes within another class. This is useful in situations where you need to keep variables locally stored, instead of globally stored.</p>"
   ]
  },
  {
   "cell_type": "code",
   "execution_count": null,
   "metadata": {},
   "outputs": [],
   "source": [
    "class Battery:\n",
    "    volts = 7.8\n",
    "    \n",
    "    def __init__(self, cells):\n",
    "        self.cells = cells\n",
    "        \n",
    "class Car:\n",
    "    def __init__(self, make, battery):\n",
    "        self.make = make\n",
    "        self.battery = battery\n",
    "        \n",
    "batt = Battery(16)\n",
    "\n",
    "tesla = Car('tesla', batt)\n",
    "\n",
    "tesla.battery.cells"
   ]
  },
  {
   "cell_type": "markdown",
   "metadata": {},
   "source": [
    "# Exercises"
   ]
  },
  {
   "cell_type": "markdown",
   "metadata": {},
   "source": [
    "### Exercise 1 - Turn the shopping cart program from yesterday into an object-oriented program\n",
    "\n",
    "The comments in the cell below are there as a guide for thinking about the problem. However, if you feel a different way is best for you and your own thought process, please do what feels best for you by all means."
   ]
  },
  {
   "cell_type": "code",
   "execution_count": 8,
   "metadata": {},
   "outputs": [
    {
     "name": "stdout",
     "output_type": "stream",
     "text": [
      "Your cart is empty.\n"
     ]
    }
   ],
   "source": [
    "# Create a class called cart that retains items and has methods to add, remove, and show\n",
    "    \n",
    "from IPython.display import clear_output\n",
    "\n",
    "# Ask the user four bits of input: Do you want to : Show/Add/Delete or Quit?\n",
    "# quit should print cart\n",
    "# keep track of quantity in dict. if you add 2 bananas, then one gets deleted, should have 1\n",
    "\n",
    "class Cart():\n",
    "    \"\"\"\n",
    "        The Cart class has an items attribute(expected to be a dictionary) \n",
    "        and allows you to add, show or delete items from the dictionary \n",
    "        and quit.\n",
    "    \"\"\"\n",
    "    def __init__(self, items={}):\n",
    "        self.items = items\n",
    "        \n",
    "    def quit(self):\n",
    "        if self.items == {}:\n",
    "            print(\"Your cart is empty.\")\n",
    "        else:\n",
    "            print(\"Your cart:\\n\")\n",
    "            for k,v in self.items.items():\n",
    "                print(f\"\\t{k}: {v}\")\n",
    "            \n",
    "    def show(self):\n",
    "        if self.items == {}:\n",
    "            print(\"Your cart is empty.\")\n",
    "        else:\n",
    "            print(\"Your cart:\\n\")\n",
    "            for k,v in self.items.items():\n",
    "                print(f\"\\t{k}: {v}\")\n",
    "            \n",
    "    def add(self):\n",
    "        new_item = input(\"What would you like to add to the cart?: \")\n",
    "        clear_output()\n",
    "        new_item = new_item.title()\n",
    "        if new_item not in self.items:\n",
    "            self.items[new_item] = 1\n",
    "        else:\n",
    "            self.items[new_item] += 1\n",
    "            \n",
    "    def delete(self):\n",
    "        del_item = input(\"What would you like to delete from the cart?: \")\n",
    "        clear_output()\n",
    "        del_item = del_item.title()\n",
    "        if del_item not in self.items:\n",
    "            print(\"Item not in cart.\")\n",
    "        elif self.items[del_item] == 1:\n",
    "            while True:\n",
    "                delete = input(f\"Are you sure you want to delete {del_item}? (y/n): \")\n",
    "                if delete.lower() == 'y':\n",
    "                    clear_output()\n",
    "                    print(f\"{del_item} has been deleted from your cart.\")\n",
    "                    del self.items[del_item]\n",
    "                    break\n",
    "                elif delete.lower() == 'n':\n",
    "                    clear_output()\n",
    "                    print(f\"Okay. Will keep {del_item} in your cart.\")\n",
    "                    break\n",
    "                else:\n",
    "                    print(\"Please enter 'y' or 'n'.\")\n",
    "        # if multiple of item is in cart\n",
    "        else:\n",
    "            while True:\n",
    "                try:\n",
    "                    print(f\"There are {self.items[del_item]} {del_item}s in your cart.\")\n",
    "                    num_to_del = input(\"How many would you like to delete?: \")\n",
    "                    clear_output()\n",
    "                    num_to_del = int(num_to_del) # check if int. if not, move to except\n",
    "                    if num_to_del > self.items[del_item]:\n",
    "                        print(\"You don't have that many in your cart. Try deleting a smaller number.\")\n",
    "                    else:\n",
    "                        self.items[del_item] -= num_to_del\n",
    "                        print(f\"{num_to_del} {del_item}(s) have been deleted from your cart.\")\n",
    "                        if self.items[del_item] == 0:\n",
    "                            del self.items[del_item] \n",
    "                        break\n",
    "                except:\n",
    "                    print(\"Please type a whole number.\")\n",
    "\n",
    "                    \n",
    "def run():\n",
    "    while True:\n",
    "        action = input(\"What would you like to do? (Type 'show', 'add', 'delete', or 'quit'): \")\n",
    "        clear_output()\n",
    "        if action.lower() == 'quit':\n",
    "            cart.quit()\n",
    "            break\n",
    "        elif action.lower() == 'show':\n",
    "            cart.show()\n",
    "        elif action.lower() == 'add':\n",
    "            cart.add()\n",
    "        elif action.lower() == 'delete':\n",
    "            cart.delete()\n",
    "\n",
    "cart = Cart()            \n",
    "run()"
   ]
  },
  {
   "cell_type": "markdown",
   "metadata": {},
   "source": [
    "### Exercise 2 - Write a Python class which has two methods get_String and print_String. get_String accept a string from the user and print_String print the string in upper case"
   ]
  },
  {
   "cell_type": "code",
   "execution_count": 2,
   "metadata": {},
   "outputs": [
    {
     "name": "stdout",
     "output_type": "stream",
     "text": [
      "HELLO\n"
     ]
    }
   ],
   "source": [
    "# Marcus, I wasn't sure if we were supposed to use input() to get the string \n",
    "# from the user or if we were supposed to use the string as an argument \n",
    "# for .get_string(), so both are below.\n",
    "\n",
    "\n",
    "# class Do_stuff():\n",
    "#     s = \"\"\n",
    "    \n",
    "#     def get_string():\n",
    "#         Do_stuff.s = input(\"Enter a string: \")\n",
    "#         return Do_stuff.s\n",
    "    \n",
    "#     def print_string():\n",
    "#         print(Do_stuff.s.upper())\n",
    "        \n",
    "# Do_stuff.get_string()\n",
    "# Do_stuff.print_string()\n",
    "\n",
    "\n",
    "class Do_stuff():\n",
    "    s = \"\"\n",
    "    \n",
    "    def get_string(user_s):\n",
    "        Do_stuff.s = user_s\n",
    "        return\n",
    "    \n",
    "    def print_string():\n",
    "        print(Do_stuff.s.upper())\n",
    "        \n",
    "Do_stuff.get_string(\"Hello\")\n",
    "Do_stuff.print_string()"
   ]
  },
  {
   "cell_type": "code",
   "execution_count": null,
   "metadata": {},
   "outputs": [],
   "source": []
  }
 ],
 "metadata": {
  "kernelspec": {
   "display_name": "Python 3",
   "language": "python",
   "name": "python3"
  },
  "language_info": {
   "codemirror_mode": {
    "name": "ipython",
    "version": 3
   },
   "file_extension": ".py",
   "mimetype": "text/x-python",
   "name": "python",
   "nbconvert_exporter": "python",
   "pygments_lexer": "ipython3",
   "version": "3.8.8"
  }
 },
 "nbformat": 4,
 "nbformat_minor": 2
}
